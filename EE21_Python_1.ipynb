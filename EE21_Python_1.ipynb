{
  "nbformat": 4,
  "nbformat_minor": 5,
  "metadata": {
    "kernelspec": {
      "display_name": "Python 3",
      "language": "python",
      "name": "python3"
    },
    "language_info": {
      "codemirror_mode": {
        "name": "ipython",
        "version": 3
      },
      "file_extension": ".py",
      "mimetype": "text/x-python",
      "name": "python",
      "nbconvert_exporter": "python",
      "pygments_lexer": "ipython3",
      "version": "3.9.1"
    },
    "latex_envs": {
      "LaTeX_envs_menu_present": true,
      "autoclose": false,
      "autocomplete": true,
      "bibliofile": "biblio.bib",
      "cite_by": "apalike",
      "current_citInitial": 1,
      "eqLabelWithNumbers": true,
      "eqNumInitial": 1,
      "hotkeys": {
        "equation": "Ctrl-E",
        "itemize": "Ctrl-I"
      },
      "labels_anchors": false,
      "latex_user_defs": false,
      "report_style_numbering": false,
      "user_envs_cfg": false
    },
    "colab": {
      "name": "EE21-Python#1.ipynb",
      "provenance": [],
      "collapsed_sections": [],
      "include_colab_link": true
    }
  },
  "cells": [
    {
      "cell_type": "markdown",
      "metadata": {
        "id": "view-in-github",
        "colab_type": "text"
      },
      "source": [
        "<a href=\"https://colab.research.google.com/github/imnotartsy/EE20/blob/main/EE21_Python_1.ipynb\" target=\"_parent\"><img src=\"https://colab.research.google.com/assets/colab-badge.svg\" alt=\"Open In Colab\"/></a>"
      ]
    },
    {
      "cell_type": "markdown",
      "metadata": {
        "id": "northern-detector"
      },
      "source": [
        "# Introduction\n",
        "\n",
        "In this assignment, we are going to use python to find the numerical solution for the circuit you encountered in problem 4 of our second PSet. The goal is to learn to solve systems of (complex) linear equations in python. We will first look at how to define complex numbers in their rectangular and polar form. Then we will create a system of complex equations which has been derived using the node-voltage analysis approach in the PSet, and compute the numerical values for $\\mathrm{\\textbf{V}_1}$ and $\\mathrm{\\textbf{V}_2}$. \n",
        "\n",
        "I encourage you to use jupyter notebooks to develop this assignment since they provide a convenient interface to run and document your code using a combination of python, [markdown](https://daringfireball.net/projects/markdown/syntax) and latex. Moreover, jupyter can be configured to work as an interface with the Analog Discovery 2 and run data acquisition and plotting for your laboratory assignments as well.\n",
        "\n",
        "You can find more details about jupyter notebooks in the [documentation page](https://jupyter-notebook.readthedocs.io/en/stable/)."
      ],
      "id": "northern-detector"
    },
    {
      "cell_type": "markdown",
      "metadata": {
        "id": "eight-draft"
      },
      "source": [
        "# Complex numbers\n",
        "\n",
        "Python provides two convenient packages to operate on complex numbers, namely `cmath` and `numpy`. You can find the documentation for these packages at the following links:\n",
        "\n",
        "[cmake Documentation](https://docs.python.org/3.8/library/cmath.html)\n",
        "\n",
        "[NumPy Documentation](https://numpy.org/doc/stable/)\n",
        "\n",
        "Let's start by importing the two packages:"
      ],
      "id": "eight-draft"
    },
    {
      "cell_type": "code",
      "metadata": {
        "id": "attended-germany"
      },
      "source": [
        "import cmath\n",
        "import numpy as np"
      ],
      "id": "attended-germany",
      "execution_count": 4,
      "outputs": []
    },
    {
      "cell_type": "markdown",
      "metadata": {
        "id": "moved-noise"
      },
      "source": [
        "As a first example, consider a complex number $z = 2 - j2$. We can define this complex variable in python as follows:"
      ],
      "id": "moved-noise"
    },
    {
      "cell_type": "code",
      "metadata": {
        "id": "swedish-system"
      },
      "source": [
        "z = 2-2j"
      ],
      "id": "swedish-system",
      "execution_count": null,
      "outputs": []
    },
    {
      "cell_type": "markdown",
      "metadata": {
        "id": "processed-chase"
      },
      "source": [
        "Note that in python, we define an imaginary number by appending the imaginary unit ($j$) to the imaginary part. We can also convert the complex number from rectangular to polar form:\n",
        "\n",
        "$$ \n",
        "z = r\\angle\\phi \\\\\n",
        "r = \\sqrt{x^2 + y^2} \\\\ \\\\\n",
        "\\phi = \\arctan\\left(\\frac{y}{x}\\right)\n",
        "$$"
      ],
      "id": "processed-chase"
    },
    {
      "cell_type": "code",
      "metadata": {
        "id": "communist-september",
        "outputId": "a35cc549-c5d1-4f78-9a34-e6a317edc7f2"
      },
      "source": [
        "r = np.sqrt(z.real**2 + z.imag**2)\n",
        "phi = np.arctan(z.imag/z.real)\n",
        "print(\"The complex number z = 2-2j has magnitude %.3f and phase %.2f rad\" % (r, phi))"
      ],
      "id": "communist-september",
      "execution_count": null,
      "outputs": [
        {
          "output_type": "stream",
          "text": [
            "The complex number z = 2-2j has magnitude 2.828 and phase -0.79 rad\n"
          ],
          "name": "stdout"
        }
      ]
    },
    {
      "cell_type": "markdown",
      "metadata": {
        "id": "beneficial-visiting"
      },
      "source": [
        "Note that the phase is expressed in radians, and can be converted to degrees with the following equation:\n",
        "\n",
        "$$ \\phi_{degrees} = \\frac{180^\\circ}{\\pi}\\phi_{radians} $$"
      ],
      "id": "beneficial-visiting"
    },
    {
      "cell_type": "code",
      "metadata": {
        "id": "later-criterion",
        "outputId": "5f41bdb2-61f9-4415-c051-edc3880dd020"
      },
      "source": [
        "phi_deg = phi * 180/np.pi\n",
        "print(\"The phase of the complex number 2-2j in degrees is %.1f\" % (phi_deg))"
      ],
      "id": "later-criterion",
      "execution_count": null,
      "outputs": [
        {
          "output_type": "stream",
          "text": [
            "The phase of the complex number 2-2j in degrees is -45.0\n"
          ],
          "name": "stdout"
        }
      ]
    },
    {
      "cell_type": "markdown",
      "metadata": {
        "variables": {
          " format(phi_deg, '.1f') ": "-45.0",
          " format(r, '.3f') ": "2.828"
        },
        "id": "partial-summer"
      },
      "source": [
        "(If you have enabled the python markdown extension you can also report the number in its polar form as $z = $ {{ format(r, '.3f') }}$\\angle${{ format(phi_deg, '.1f') }}$^\\circ$)\n",
        "\n",
        "A more convenient way to convert complex numbers between these representations is to use the `polar` and `rect` functions from the `cmath` package. An example of how to convert numbers between the two formats is shown below. In addition, we can also use the `rad2deg` and `deg2rad` NumPy functions for converting the phase angle between radians and degrees:"
      ],
      "id": "partial-summer"
    },
    {
      "cell_type": "code",
      "metadata": {
        "id": "alpine-request",
        "outputId": "85af1aaf-4ac8-4800-a1be-c9d4bef7b2b6"
      },
      "source": [
        "r, phi = cmath.polar(z)\n",
        "print(\"The complex number z = 2-2j has magnitude %.3f and phase %.1f degrees\" % (r, np.rad2deg(phi)))"
      ],
      "id": "alpine-request",
      "execution_count": null,
      "outputs": [
        {
          "output_type": "stream",
          "text": [
            "The complex number z = 2-2j has magnitude 2.828 and phase -45.0 degrees\n"
          ],
          "name": "stdout"
        }
      ]
    },
    {
      "cell_type": "markdown",
      "metadata": {
        "id": "scenic-friendship"
      },
      "source": [
        "Similarly, we can use the polar representation, $z = Ae^{j\\phi}$ (where $\\phi$ is expressed in radians) and convert it in the corresponding rectangular form:"
      ],
      "id": "scenic-friendship"
    },
    {
      "cell_type": "code",
      "metadata": {
        "id": "printable-oregon",
        "outputId": "4b27172e-190f-467b-e782-4714464ccc77"
      },
      "source": [
        "c = r*cmath.exp(phi*1j)\n",
        "z = cmath.rect(r, phi)\n",
        "print(\"c = %.2f%.2fj\" % (c.real, c.imag))\n",
        "print(\"z = \", z)"
      ],
      "id": "printable-oregon",
      "execution_count": null,
      "outputs": [
        {
          "output_type": "stream",
          "text": [
            "c = 2.00-2.00j\n",
            "z =  (2.0000000000000004-2j)\n"
          ],
          "name": "stdout"
        }
      ]
    },
    {
      "cell_type": "markdown",
      "metadata": {
        "id": "tired-visibility"
      },
      "source": [
        "# Solving linear systems\n",
        "\n",
        "As you have seen in the application of the node-voltage and mesh-current methods, circuit analysis often requires to find the solution of linear simultaneous equations. \n",
        "\n",
        "Consider the following system of equations:\n",
        "$$\n",
        "\\left\\{\n",
        "    \\begin{array} \\\\ \n",
        "        x_1 - 12x_2 +4x_3 = 12 \\\\\n",
        "        -3x_1 + 3x_3 = 9 \\\\\n",
        "        x_1 +2x_2 +3x_3 = 5 \\\\\n",
        "    \\end{array}\n",
        "\\right.\n",
        "$$\n",
        "\n",
        "or equivalently in matrix form:\n",
        "\n",
        "$$\n",
        "    \\begin{bmatrix}\n",
        "        1  & -12 & 4 \\\\\n",
        "        -3 &   0 & 3 \\\\\n",
        "        1  &   2 & 3 \\\\\n",
        "    \\end{bmatrix}\n",
        "\\left[\n",
        "    \\begin{array}{c}\n",
        "        x_1 \\\\\n",
        "        x_2 \\\\\n",
        "        x_3 \\\\\n",
        "    \\end{array}\n",
        "\\right]\n",
        "=\n",
        "\\left[\n",
        "    \\begin{array}{c}\n",
        "        12 \\\\\n",
        "         9 \\\\\n",
        "         5 \\\\\n",
        "    \\end{array}\n",
        "\\right]\n",
        "$$\n",
        "        \n",
        "The values of $x_1$, $x_2$, and $x_3$ that satisfy all three equations simultaneously, can be found by computing $X = A^{-1}B$, where:\n",
        "\n",
        "$$\n",
        "A = \n",
        "\\begin{bmatrix}\n",
        "        1  & -12 & 4 \\\\\n",
        "        -3 &   0 & 3 \\\\\n",
        "        1  &   2 & 3 \\\\\n",
        "\\end{bmatrix},\\;\n",
        "B =     \n",
        "\\left[\n",
        "    \\begin{array}{c}\n",
        "        12 \\\\\n",
        "         9 \\\\\n",
        "         5 \\\\\n",
        "    \\end{array}\n",
        "\\right],\\;\n",
        "X = \n",
        "\\left[\n",
        "    \\begin{array}{c}\n",
        "        x_1 \\\\\n",
        "        x_2 \\\\\n",
        "        x_3 \\\\\n",
        "    \\end{array}\n",
        "\\right]\n",
        "$$\n",
        "\n"
      ],
      "id": "tired-visibility"
    },
    {
      "cell_type": "code",
      "metadata": {
        "id": "structural-daniel",
        "colab": {
          "base_uri": "https://localhost:8080/"
        },
        "outputId": "5135230c-3e2a-4b46-88ea-3ae82bdd1718"
      },
      "source": [
        "A = np.array([[ 1, -12, 4],\n",
        "              [-3,   0, 3],\n",
        "              [ 1,   2, 3]])\n",
        "B = np.array([12, 9, 5])\n",
        "\n",
        "A_inv = np.linalg.inv(A)\n",
        "X = np.dot(A_inv, B)\n",
        "# Alternatively, you can use X = np.linalg.solve(A, B)\n",
        "\n",
        "print(\"The system of equations has solutions x1 = %.3f, x2 = %.3f, and x3 = %.3f\" % (X[0], X[1], X[2]))"
      ],
      "id": "structural-daniel",
      "execution_count": 81,
      "outputs": [
        {
          "output_type": "stream",
          "text": [
            "The system of equations has solutions x1 = -0.828, x2 = -0.345, and x3 = 2.172\n"
          ],
          "name": "stdout"
        }
      ]
    },
    {
      "cell_type": "markdown",
      "metadata": {
        "id": "processed-blink"
      },
      "source": [
        "The following example defines a function `linalg_solve` that takes the matrices $A$ and $B$ as parameters, and returns the solution of the linear system, $X$."
      ],
      "id": "processed-blink"
    },
    {
      "cell_type": "code",
      "metadata": {
        "id": "industrial-reporter",
        "colab": {
          "base_uri": "https://localhost:8080/"
        },
        "outputId": "434d3192-eb94-4d51-b503-6c3d3492df9c"
      },
      "source": [
        "def linalg_solve(A, B):\n",
        "    A_inv = np.linalg.inv(A)\n",
        "    X = np.dot(A_inv, B)\n",
        "    \n",
        "    return X\n",
        "\n",
        "X = linalg_solve(A, B)\n",
        "print(\"The system of equations has solutions x1 = %.3f, x2 = %.3f, and x3 = %.3f\" % (X[0], X[1], X[2]))"
      ],
      "id": "industrial-reporter",
      "execution_count": 82,
      "outputs": [
        {
          "output_type": "stream",
          "text": [
            "The system of equations has solutions x1 = -0.828, x2 = -0.345, and x3 = 2.172\n"
          ],
          "name": "stdout"
        }
      ]
    },
    {
      "cell_type": "markdown",
      "metadata": {
        "id": "casual-following"
      },
      "source": [
        "# Python assignment \\#1\n",
        "\n",
        "For this assignment consider the circuit in figure:\n",
        "\n",
        "![](./circ.png)\n",
        "\n",
        "\n",
        "1. Create the functions `rect2pol` and `pol2rect` that convert a complex number between its polar and rectangular format. The functions should be created using the appropriate mathematical relationships and without using the existing `cmath.polar` and `cmath.rect` functions. For the polar representation, express the phase angle in degrees.\n",
        "\n",
        "2. Define the system of equations corresponding to the node-voltage method applied to the circuit above. Solve the system using the matrix inversion method described in the previous section. Print the solutions in both polar and rectangular formats. \n",
        "\n",
        "**Deliverables**: Create and upload an archive (.zip) containing your jupyter notebook with your code and annotations, and any additional file referenced in the notebook.  "
      ],
      "id": "casual-following"
    },
    {
      "cell_type": "code",
      "metadata": {
        "id": "chief-probe"
      },
      "source": [
        "## Question 1\n",
        "\n",
        "def rect2pol(z, expected=False):\n",
        "  L = np.sqrt(pow(z.real,2) + pow(z.imag, 2))\n",
        "  a = np.arctan(z.imag/z.real) * 180 / np.pi\n",
        "\n",
        "  if expected:\n",
        "    print(\"EXPECTED:\", cmath.polar(z))\n",
        "\n",
        "  return (L, a)\n",
        "\n",
        "def pol2rect(r, expected=False):\n",
        "  x = r[0] * np.cos(r[1])\n",
        "  y = r[0] * np.sin(r[1])\n",
        "\n",
        "  if expected:\n",
        "    print(\"EXPECTED:\", cmath.rect(r[0], r[1]))\n",
        "\n",
        "  return np.real(x) + y * 1j"
      ],
      "id": "chief-probe",
      "execution_count": 24,
      "outputs": []
    },
    {
      "cell_type": "code",
      "metadata": {
        "colab": {
          "base_uri": "https://localhost:8080/"
        },
        "id": "OlCk9nEXKs5X",
        "outputId": "0d5a7749-1a84-4cf8-b0f9-ce296a48ded5"
      },
      "source": [
        "## Question 1 - Test cases\n",
        "\n",
        "z = 1 + 1j\n",
        "r = (1.4142135623730951, 0.7853981633974483)\n",
        "\n",
        "ret1 = rect2pol(z, True)\n",
        "print(ret1)\n",
        "print()\n",
        "\n",
        "ret2 = pol2rect(r, True)\n",
        "\n",
        "print(ret2)"
      ],
      "id": "OlCk9nEXKs5X",
      "execution_count": 80,
      "outputs": [
        {
          "output_type": "stream",
          "text": [
            "EXPECTED: (1.4142135623730951, 0.7853981633974483)\n",
            "(1.4142135623730951, 45.0)\n",
            "\n",
            "EXPECTED: (1.0000000000000002+1j)\n",
            "(1.0000000000000002+1j)\n"
          ],
          "name": "stdout"
        }
      ]
    },
    {
      "cell_type": "markdown",
      "metadata": {
        "id": "kbHSBXiOK3Ef"
      },
      "source": [
        "## Question 2 - System of Equations\n",
        "\n",
        "System of Equations:\n",
        "$$ V_1/10 + (V_1 - V_2)/(5 + j15) = (.12 - j.06)V_1 + (-.02 + j.06)V_2 = 1\\angle 0^{\\circ}$$\n",
        "\n",
        "$$ V_2/-j10 + (V_2 - V_1)/(5 + j15) = (-.02 + j.06)V_1 + (.02 + j.04)V_2 = 1\\angle 30^{\\circ}$$\n",
        "\n",
        "\n",
        "\n",
        "Matrix:\n",
        "\\begin{bmatrix}\n",
        ".12 - j.06 & -.02 + j.06 & 1\\\\\n",
        "-.02 + j.06 & .02 + j.04 & .866 + j.05\n",
        "\\end{bmatrix}"
      ],
      "id": "kbHSBXiOK3Ef"
    },
    {
      "cell_type": "code",
      "metadata": {
        "colab": {
          "base_uri": "https://localhost:8080/"
        },
        "id": "2BpRQhsQT2Bp",
        "outputId": "b626a77d-b758-4f7b-80c8-6422a2cfee0c"
      },
      "source": [
        "## Question 2 - Solving the System\n",
        "\n",
        "A = np.array([[ .12 - .06j, -.02 + .06j],\n",
        "              [-.02 + .06j,  .02 + .04j]])\n",
        "B = np.array([[1],[.866 + .5j]])\n",
        "\n",
        "X = np.linalg.solve(A, B)\n",
        "\n",
        "V_1 = rect2pol(X[0])\n",
        "V_2 = rect2pol(X[1])\n",
        "\n",
        "print(\"V_1 =\", V_1[0][0], \"∠\", V_1[1][0])\n",
        "print(\"V_2 =\", V_2[0][0], \"∠\", V_2[1][0])"
      ],
      "id": "2BpRQhsQT2Bp",
      "execution_count": 35,
      "outputs": [
        {
          "output_type": "stream",
          "text": [
            "V_1 = 6.734852633874033 ∠ -38.53757460882918\n",
            "V_2 = 16.24537103300506 ∠ -55.52344645115062\n"
          ],
          "name": "stdout"
        }
      ]
    }
  ]
}