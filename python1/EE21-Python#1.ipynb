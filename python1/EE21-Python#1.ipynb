{
 "cells": [
  {
   "cell_type": "markdown",
   "id": "northern-detector",
   "metadata": {},
   "source": [
    "# Introduction\n",
    "\n",
    "In this assignment, we are going to use python to find the numerical solution for the circuit you encountered in problem 4 of our second PSet. The goal is to learn to solve systems of (complex) linear equations in python. We will first look at how to define complex numbers in their rectangular and polar form. Then we will create a system of complex equations which has been derived using the node-voltage analysis approach in the PSet, and compute the numerical values for $\\mathrm{\\textbf{V}_1}$ and $\\mathrm{\\textbf{V}_2}$. \n",
    "\n",
    "I encourage you to use jupyter notebooks to develop this assignment since they provide a convenient interface to run and document your code using a combination of python, [markdown](https://daringfireball.net/projects/markdown/syntax) and latex. Moreover, jupyter can be configured to work as an interface with the Analog Discovery 2 and run data acquisition and plotting for your laboratory assignments as well.\n",
    "\n",
    "You can find more details about jupyter notebooks in the [documentation page](https://jupyter-notebook.readthedocs.io/en/stable/)."
   ]
  },
  {
   "cell_type": "markdown",
   "id": "eight-draft",
   "metadata": {},
   "source": [
    "# Complex numbers\n",
    "\n",
    "Python provides two convenient packages to operate on complex numbers, namely `cmath` and `numpy`. You can find the documentation for these packages at the following links:\n",
    "\n",
    "[cmake Documentation](https://docs.python.org/3.8/library/cmath.html)\n",
    "\n",
    "[NumPy Documentation](https://numpy.org/doc/stable/)\n",
    "\n",
    "Let's start by importing the two packages:"
   ]
  },
  {
   "cell_type": "code",
   "execution_count": 13,
   "id": "attended-germany",
   "metadata": {},
   "outputs": [],
   "source": [
    "import cmath\n",
    "import numpy as np"
   ]
  },
  {
   "cell_type": "markdown",
   "id": "moved-noise",
   "metadata": {},
   "source": [
    "As a first example, consider a complex number $z = 2 - j2$. We can define this complex variable in python as follows:"
   ]
  },
  {
   "cell_type": "code",
   "execution_count": 14,
   "id": "swedish-system",
   "metadata": {},
   "outputs": [],
   "source": [
    "z = 2-2j"
   ]
  },
  {
   "cell_type": "markdown",
   "id": "processed-chase",
   "metadata": {},
   "source": [
    "Note that in python, we define an imaginary number by appending the imaginary unit ($j$) to the imaginary part. We can also convert the complex number from rectangular to polar form:\n",
    "\n",
    "$$ \n",
    "z = r\\angle\\phi \\\\\n",
    "r = \\sqrt{x^2 + y^2} \\\\ \\\\\n",
    "\\phi = \\arctan\\left(\\frac{y}{x}\\right)\n",
    "$$"
   ]
  },
  {
   "cell_type": "code",
   "execution_count": 15,
   "id": "communist-september",
   "metadata": {},
   "outputs": [
    {
     "name": "stdout",
     "output_type": "stream",
     "text": [
      "The complex number z = 2-2j has magnitude 2.828 and phase -0.79 rad\n"
     ]
    }
   ],
   "source": [
    "r = np.sqrt(z.real**2 + z.imag**2)\n",
    "phi = np.arctan(z.imag/z.real)\n",
    "print(\"The complex number z = 2-2j has magnitude %.3f and phase %.2f rad\" % (r, phi))"
   ]
  },
  {
   "cell_type": "markdown",
   "id": "beneficial-visiting",
   "metadata": {},
   "source": [
    "Note that the phase is expressed in radians, and can be converted to degrees with the following equation:\n",
    "\n",
    "$$ \\phi_{degrees} = \\frac{180^\\circ}{\\pi}\\phi_{radians} $$"
   ]
  },
  {
   "cell_type": "code",
   "execution_count": 16,
   "id": "later-criterion",
   "metadata": {},
   "outputs": [
    {
     "name": "stdout",
     "output_type": "stream",
     "text": [
      "The phase of the complex number 2-2j in degrees is -45.0\n"
     ]
    }
   ],
   "source": [
    "phi_deg = phi * 180/np.pi\n",
    "print(\"The phase of the complex number 2-2j in degrees is %.1f\" % (phi_deg))"
   ]
  },
  {
   "cell_type": "markdown",
   "id": "partial-summer",
   "metadata": {
    "variables": {
     " format(phi_deg, '.1f') ": "-45.0",
     " format(r, '.3f') ": "2.828"
    }
   },
   "source": [
    "(If you have enabled the python markdown extension you can also report the number in its polar form as $z = $ {{ format(r, '.3f') }}$\\angle${{ format(phi_deg, '.1f') }}$^\\circ$)\n",
    "\n",
    "A more convenient way to convert complex numbers between these representations is to use the `polar` and `rect` functions from the `cmath` package. An example of how to convert numbers between the two formats is shown below. In addition, we can also use the `rad2deg` and `deg2rad` NumPy functions for converting the phase angle between radians and degrees:"
   ]
  },
  {
   "cell_type": "code",
   "execution_count": 17,
   "id": "alpine-request",
   "metadata": {},
   "outputs": [
    {
     "name": "stdout",
     "output_type": "stream",
     "text": [
      "The complex number z = 2-2j has magnitude 2.828 and phase -45.0 degrees\n"
     ]
    }
   ],
   "source": [
    "r, phi = cmath.polar(z)\n",
    "print(\"The complex number z = 2-2j has magnitude %.3f and phase %.1f degrees\" % (r, np.rad2deg(phi)))"
   ]
  },
  {
   "cell_type": "markdown",
   "id": "scenic-friendship",
   "metadata": {},
   "source": [
    "Similarly, we can use the polar representation, $z = Ae^{j\\phi}$ (where $\\phi$ is expressed in radians) and convert it in the corresponding rectangular form:"
   ]
  },
  {
   "cell_type": "code",
   "execution_count": 18,
   "id": "printable-oregon",
   "metadata": {},
   "outputs": [
    {
     "name": "stdout",
     "output_type": "stream",
     "text": [
      "c = 2.00-2.00j\n",
      "z =  (2.0000000000000004-2j)\n"
     ]
    }
   ],
   "source": [
    "c = r*cmath.exp(phi*1j)\n",
    "z = cmath.rect(r, phi)\n",
    "print(\"c = %.2f%.2fj\" % (c.real, c.imag))\n",
    "print(\"z = \", z)"
   ]
  },
  {
   "cell_type": "markdown",
   "id": "tired-visibility",
   "metadata": {},
   "source": [
    "# Solving linear systems\n",
    "\n",
    "As you have seen in the application of the node-voltage and mesh-current methods, circuit analysis often requires to find the solution of linear simultaneous equations. \n",
    "\n",
    "Consider the following system of equations:\n",
    "$$\n",
    "\\left\\{\n",
    "    \\begin{array} \\\\ \n",
    "        x_1 - 12x_2 +4x_3 = 12 \\\\\n",
    "        -3x_1 + 3x_3 = 9 \\\\\n",
    "        x_1 +2x_2 +3x_3 = 5 \\\\\n",
    "    \\end{array}\n",
    "\\right.\n",
    "$$\n",
    "\n",
    "or equivalently in matrix form:\n",
    "\n",
    "$$\n",
    "    \\begin{bmatrix}\n",
    "        1  & -12 & 4 \\\\\n",
    "        -3 &   0 & 3 \\\\\n",
    "        1  &   2 & 3 \\\\\n",
    "    \\end{bmatrix}\n",
    "\\left[\n",
    "    \\begin{array}{c}\n",
    "        x_1 \\\\\n",
    "        x_2 \\\\\n",
    "        x_3 \\\\\n",
    "    \\end{array}\n",
    "\\right]\n",
    "=\n",
    "\\left[\n",
    "    \\begin{array}{c}\n",
    "        12 \\\\\n",
    "         9 \\\\\n",
    "         5 \\\\\n",
    "    \\end{array}\n",
    "\\right]\n",
    "$$\n",
    "        \n",
    "The values of $x_1$, $x_2$, and $x_3$ that satisfy all three equations simultaneously, can be found by computing $X = A^{-1}B$, where:\n",
    "\n",
    "$$\n",
    "A = \n",
    "\\begin{bmatrix}\n",
    "        1  & -12 & 4 \\\\\n",
    "        -3 &   0 & 3 \\\\\n",
    "        1  &   2 & 3 \\\\\n",
    "\\end{bmatrix},\\;\n",
    "B =     \n",
    "\\left[\n",
    "    \\begin{array}{c}\n",
    "        12 \\\\\n",
    "         9 \\\\\n",
    "         5 \\\\\n",
    "    \\end{array}\n",
    "\\right],\\;\n",
    "X = \n",
    "\\left[\n",
    "    \\begin{array}{c}\n",
    "        x_1 \\\\\n",
    "        x_2 \\\\\n",
    "        x_3 \\\\\n",
    "    \\end{array}\n",
    "\\right]\n",
    "$$\n",
    "\n"
   ]
  },
  {
   "cell_type": "code",
   "execution_count": 19,
   "id": "structural-daniel",
   "metadata": {},
   "outputs": [
    {
     "name": "stdout",
     "output_type": "stream",
     "text": [
      "The system of equations has solutions x1 = -0.828, x2 = -0.345, and x3 = 2.172\n"
     ]
    }
   ],
   "source": [
    "A = np.array([[ 1, -12, 4],\n",
    "              [-3,   0, 3],\n",
    "              [ 1,   2, 3]])\n",
    "B = np.array([12, 9, 5])\n",
    "\n",
    "A_inv = np.linalg.inv(A)\n",
    "X = np.dot(A_inv, B)\n",
    "# Alternatively, you can use X = np.linalg.solve(A, B)\n",
    "\n",
    "print(\"The system of equations has solutions x1 = %.3f, x2 = %.3f, and x3 = %.3f\" % (X[0], X[1], X[2]))"
   ]
  },
  {
   "cell_type": "markdown",
   "id": "processed-blink",
   "metadata": {},
   "source": [
    "The following example defines a function `linalg_solve` that takes the matrices $A$ and $B$ as parameters, and returns the solution of the linear system, $X$."
   ]
  },
  {
   "cell_type": "code",
   "execution_count": 20,
   "id": "industrial-reporter",
   "metadata": {},
   "outputs": [
    {
     "name": "stdout",
     "output_type": "stream",
     "text": [
      "The system of equations has solutions x1 = -0.828, x2 = -0.345, and x3 = 2.172\n"
     ]
    }
   ],
   "source": [
    "def linalg_solve(A, B):\n",
    "    A_inv = np.linalg.inv(A)\n",
    "    X = np.dot(A_inv, B)\n",
    "    \n",
    "    return X\n",
    "\n",
    "X = linalg_solve(A, B)\n",
    "print(\"The system of equations has solutions x1 = %.3f, x2 = %.3f, and x3 = %.3f\" % (X[0], X[1], X[2]))"
   ]
  },
  {
   "cell_type": "markdown",
   "id": "casual-following",
   "metadata": {},
   "source": [
    "# Python assignment \\#1\n",
    "\n",
    "For this assignment consider the circuit in figure:\n",
    "\n",
    "![](./circ.png)\n",
    "\n",
    "\n",
    "1. Create the functions `rect2pol` and `pol2rect` that convert a complex number between its polar and rectangular format. The functions should be created using the appropriate mathematical relationships and without using the existing `cmath.polar` and `cmath.rect` functions. For the polar representation, express the phase angle in degrees.\n",
    "\n",
    "2. Define the system of equations corresponding to the node-voltage method applied to the circuit above. Solve the system using the matrix inversion method described in the previous section. Print the solutions in both polar and rectangular formats. \n",
    "\n",
    "**Deliverables**: Create and upload an archive (.zip) containing your jupyter notebook with your code and annotations, and any additional file referenced in the notebook.  "
   ]
  },
  {
   "cell_type": "code",
   "execution_count": null,
   "id": "chief-probe",
   "metadata": {},
   "outputs": [],
   "source": []
  }
 ],
 "metadata": {
  "kernelspec": {
   "display_name": "Python 3",
   "language": "python",
   "name": "python3"
  },
  "language_info": {
   "codemirror_mode": {
    "name": "ipython",
    "version": 3
   },
   "file_extension": ".py",
   "mimetype": "text/x-python",
   "name": "python",
   "nbconvert_exporter": "python",
   "pygments_lexer": "ipython3",
   "version": "3.9.1"
  },
  "latex_envs": {
   "LaTeX_envs_menu_present": true,
   "autoclose": false,
   "autocomplete": true,
   "bibliofile": "biblio.bib",
   "cite_by": "apalike",
   "current_citInitial": 1,
   "eqLabelWithNumbers": true,
   "eqNumInitial": 1,
   "hotkeys": {
    "equation": "Ctrl-E",
    "itemize": "Ctrl-I"
   },
   "labels_anchors": false,
   "latex_user_defs": false,
   "report_style_numbering": false,
   "user_envs_cfg": false
  }
 },
 "nbformat": 4,
 "nbformat_minor": 5
}
